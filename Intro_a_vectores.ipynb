{
  "nbformat": 4,
  "nbformat_minor": 0,
  "metadata": {
    "colab": {
      "name": "Intro a vectores",
      "provenance": [],
      "collapsed_sections": [],
      "authorship_tag": "ABX9TyNmQCK+QOXZ0ZXD631YYE02",
      "include_colab_link": true
    },
    "kernelspec": {
      "name": "python3",
      "display_name": "Python 3"
    }
  },
  "cells": [
    {
      "cell_type": "markdown",
      "metadata": {
        "id": "view-in-github",
        "colab_type": "text"
      },
      "source": [
        "<a href=\"https://colab.research.google.com/github/cesarITESO/AlgebraLineal/blob/master/Intro_a_vectores.ipynb\" target=\"_parent\"><img src=\"https://colab.research.google.com/assets/colab-badge.svg\" alt=\"Open In Colab\"/></a>"
      ]
    },
    {
      "cell_type": "code",
      "metadata": {
        "id": "DA2-RWUQf1UX",
        "colab_type": "code",
        "colab": {
          "base_uri": "https://localhost:8080/",
          "height": 68
        },
        "outputId": "8300ff1a-55fd-48ef-c171-2b115c26885e"
      },
      "source": [
        "#Las operaciones si usamos direcciones de los arreglos\n",
        "u=[2,7]\n",
        "v=[1,20]\n",
        "escalar=3\n",
        "print(u[0]+v[0],\"i\",\"+\",u[1]+v[1],\"j\")\n",
        "print(\"producto punto:\",u[0]*v[0]+u[1]*v[1])\n",
        "print(\"por un escalar\",\"(\",3*u[0],\",\",3*u[1],\")\")"
      ],
      "execution_count": 13,
      "outputs": [
        {
          "output_type": "stream",
          "text": [
            "3 i + 27 j\n",
            "producto punto: 142\n",
            "por un escalar ( 6 , 21 )\n"
          ],
          "name": "stdout"
        }
      ]
    },
    {
      "cell_type": "code",
      "metadata": {
        "id": "A4OB5VnMkHux",
        "colab_type": "code",
        "colab": {
          "base_uri": "https://localhost:8080/",
          "height": 51
        },
        "outputId": "068254e7-462e-45e3-aafb-c92a0eb3d48e"
      },
      "source": [
        "#Su usamos bibliotecas \n",
        "import numpy as np\n",
        "from numpy import (array, dot, arccos, clip)\n",
        "from numpy.linalg import norm\n",
        "\n",
        "u=np.array([2,7])\n",
        "v=np.array([1,20])\n",
        "\n",
        "print(\"Suma de vectores\", u+v)\n",
        "print(\"Norma del vector A\",np.linalg.norm(u))\n"
      ],
      "execution_count": 20,
      "outputs": [
        {
          "output_type": "stream",
          "text": [
            "Suma de vectores [ 3 27]\n",
            "Norma del vector A 7.280109889280518\n"
          ],
          "name": "stdout"
        }
      ]
    },
    {
      "cell_type": "code",
      "metadata": {
        "id": "d4FIGv9alDp8",
        "colab_type": "code",
        "colab": {
          "base_uri": "https://localhost:8080/",
          "height": 414
        },
        "outputId": "85fd98d8-a5f4-4ae8-ee49-59d8df7e7814"
      },
      "source": [
        "#Este es el programa que tienen que completar (5 puntos en examen) \n",
        "import matplotlib.pyplot as plt\n",
        "\n",
        "import numpy as np\n",
        "from numpy import (array, dot, arccos, clip)\n",
        "from numpy.linalg import norm\n",
        "\n",
        "import math\n",
        "\n",
        "\n",
        "v1=np.array([6,3]) #Los vectores\n",
        "v2=np.array([2,7])\n",
        "\n",
        "\n",
        "\n",
        "#Las operaciones \n",
        "print(\"Suma de vectores=\")\n",
        "print(\"Resta de los vectores=\")\n",
        "print(\"producto punto=\")\n",
        "print(\"Norma del vector A=\")\n",
        "print(\"Norma del vector B=\")\n",
        "print(\"vector unitario de A=\")\n",
        "print(\"angulo entre dos vectores A y B=\")\n",
        "print(\"El producto cruz de AXB\")\n",
        "\n",
        "#Como graficar los vectores \n",
        "plt.quiver(v1[0], v1[1], angles='xy', scale_units='xy', scale=1,color=\"r\")\n",
        "plt.quiver(v2[0], v2[1], angles='xy', scale_units='xy', scale=1)\n",
        "\n",
        "plt.axhline(0, color='black')\n",
        "plt.axvline(0, color='black')\n",
        "\n",
        "\n",
        "plt.xlim([-10, 10])\n",
        "plt.ylim([-10, 10])\n",
        "\n",
        "plt.xlabel('i')\n",
        "plt.ylabel('j')\n",
        "plt.title('Vectors')\n",
        "plt.grid()\n",
        "plt.show()"
      ],
      "execution_count": 19,
      "outputs": [
        {
          "output_type": "stream",
          "text": [
            "Suma de vectores=\n",
            "Resta de los vectores=\n",
            "producto punto=\n",
            "Norma del vector A=\n",
            "Norma del vector B=\n",
            "vector unitario de A=\n",
            "angulo entre dos vectores A y B=\n"
          ],
          "name": "stdout"
        },
        {
          "output_type": "display_data",
          "data": {
            "image/png": "[encoded data removed]",
            "text/plain": [
              "<Figure size 432x288 with 1 Axes>"
            ]
          },
          "metadata": {
            "tags": [],
            "needs_background": "light"
          }
        }
      ]
    },
    {
      "cell_type": "code",
      "metadata": {
        "id": "MT4lUUQqk9pm",
        "colab_type": "code",
        "colab": {}
      },
      "source": [
        "\n"
      ],
      "execution_count": null,
      "outputs": []
    },
    {
      "cell_type": "code",
      "metadata": {
        "id": "krg4oeiNlGY7",
        "colab_type": "code",
        "colab": {}
      },
      "source": [
        "\n",
        "\n"
      ],
      "execution_count": null,
      "outputs": []
    }
  ]
}