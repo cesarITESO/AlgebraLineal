{
  "nbformat": 4,
  "nbformat_minor": 0,
  "metadata": {
    "colab": {
      "name": "Derivada.ipynb",
      "provenance": [],
      "authorship_tag": "ABX9TyNmoMMpIfNNgquf0eouy85v",
      "include_colab_link": true
    },
    "kernelspec": {
      "name": "python3",
      "display_name": "Python 3"
    }
  },
  "cells": [
    {
      "cell_type": "markdown",
      "metadata": {
        "id": "view-in-github",
        "colab_type": "text"
      },
      "source": [
        "<a href=\"https://colab.research.google.com/github/cesarITESO/AlgebraLineal/blob/master/Derivada.ipynb\" target=\"_parent\"><img src=\"https://colab.research.google.com/assets/colab-badge.svg\" alt=\"Open In Colab\"/></a>"
      ]
    },
    {
      "cell_type": "code",
      "metadata": {
        "id": "MPcImU_UWyn3",
        "colab": {
          "base_uri": "https://localhost:8080/",
          "height": 245
        },
        "outputId": "bcd96369-123b-47ab-852e-1d1c04d2de8e"
      },
      "source": [
        "import numpy as np\n",
        "import matplotlib.pyplot as plt\n",
        "from sympy import Symbol\n",
        " \n",
        "def derivative(f,a,method='central',h=0.01):\n",
        " \n",
        "  if(method=='central'):\n",
        "    return (f(a+h)-f(a))/(2*h)\n",
        "  elif(method=='forward'):\n",
        "    return ((f(a+h)-f(a))/h)\n",
        "  elif(method=='backward'):\n",
        "    return ((f(a)-f(a-h))/h)\n",
        " \n",
        " \n",
        " \n",
        "x=np.linspace(0,6,100)\n",
        "ev=derivative(np.sin,2)\n",
        "print(ev)\n",
        "plt.plot(x,derivative(np.sin,x))\n",
        "plt.scatter(2,ev)\n",
        "plt.show()"
      ],
      "execution_count": null,
      "outputs": [
        {
          "output_type": "stream",
          "text": [
            "-0.21034317502403588\n"
          ],
          "name": "stdout"
        },
        {
          "output_type": "display_data",
          "data": {
            "image/png": "[encoded data removed]",
            "text/plain": [
              "<Figure size 432x288 with 1 Axes>"
            ]
          },
          "metadata": {
            "tags": [],
            "needs_background": "light"
          }
        }
      ]
    },
    {
      "cell_type": "code",
      "metadata": {
        "id": "cJH3geGvNXXu",
        "colab": {
          "base_uri": "https://localhost:8080/",
          "height": 588
        },
        "outputId": "1dfd0c6f-d818-4710-c274-d9d36598f03c"
      },
      "source": [
        "import numpy as np\n",
        "import matplotlib.pyplot as plt\n",
        "from sympy import Symbol\n",
        " \n",
        "def derivative(f,a,h=0.01):\n",
        "  dx_eval=(f(a+h)-f(a-h))/(h)\n",
        "  print(dx_eval)\n",
        "  return dx_eval\n",
        "\n",
        "\n",
        "x=np.linspace(0,6,100)\n",
        "ev=derivative(np.sin,2)\n",
        "print(ev)\n",
        "\n",
        "plt.plot(x,derivative(np.sin,x))\n",
        "plt.scatter(2,ev)\n",
        "plt.show()"
      ],
      "execution_count": null,
      "outputs": [
        {
          "output_type": "stream",
          "text": [
            "-0.8322798016024202\n",
            "-0.8322798016024202\n",
            "[ 1.99996667  1.99629476  1.98529251  1.96700033  1.94148539  1.90884136\n",
            "  1.86918813  1.82267129  1.76946166  1.70975462  1.64376941  1.57174833\n",
            "  1.49395583  1.41067757  1.32221935  1.22890597  1.13108009  1.02910092\n",
            "  0.92334291  0.81419442  0.70205624  0.58734012  0.47046731  0.35186695\n",
            "  0.23197455  0.11123035 -0.00992229 -0.1310385  -0.25167353 -0.37138443\n",
            " -0.48973161 -0.60628052 -0.72060318 -0.8322798  -0.94090032 -1.04606588\n",
            " -1.14739032 -1.24450158 -1.33704306 -1.42467496 -1.50707549 -1.58394209\n",
            " -1.6549925  -1.71996583 -1.77862349 -1.8307501  -1.87615425 -1.91466922\n",
            " -1.94615358 -1.97049172 -1.98759427 -1.99739844 -1.99986821 -1.99499453\n",
            " -1.98279529 -1.96331529 -1.93662605 -1.90282557 -1.86203798 -1.81441303\n",
            " -1.76012562 -1.69937508 -1.63238448 -1.55939981 -1.48068908 -1.39654129\n",
            " -1.30726545 -1.21318937 -1.1146585  -1.01203463 -0.9056946  -0.79602888\n",
            " -0.68344018 -0.56834189 -0.45115668 -0.33231483 -0.21225273 -0.09141125\n",
            "  0.0297659   0.15083374  0.27134773  0.39086534  0.5089477   0.62516122\n",
            "  0.73907917  0.85028324  0.95836509  1.06292786  1.16358759  1.25997465\n",
            "  1.35173513  1.43853208  1.52004678  1.59597991  1.66605265  1.7300077\n",
            "  1.78761021  1.83864867  1.88293566  1.92030857]\n"
          ],
          "name": "stdout"
        },
        {
          "output_type": "display_data",
          "data": {
            "image/png": "[encoded data removed]",
            "text/plain": [
              "<Figure size 432x288 with 1 Axes>"
            ]
          },
          "metadata": {
            "tags": [],
            "needs_background": "light"
          }
        }
      ]
    },
    {
      "cell_type": "code",
      "metadata": {
        "id": "9sSKGBRhGDy0",
        "colab": {
          "base_uri": "https://localhost:8080/",
          "height": 268
        },
        "outputId": "377c67ce-2054-4ffe-9d57-2ab34b671d2b"
      },
      "source": [
        "import math\n",
        "import numpy as np\n",
        "import matplotlib.pyplot as plt\n",
        "from sympy import Symbol\n",
        "import re\n",
        " \n",
        "def derivative(f,a,method='forward',h=0.01):\n",
        " \n",
        "  if(method=='central'):\n",
        "    return (f(a+h)-f(a-h))/(2*h)\n",
        "  elif(method=='forward'):\n",
        "    return (eval(re.sub(\"x\",str(a+h),f))- eval(re.sub(\"x\",str(a),f)))/h\n",
        "  elif(method=='backward'):\n",
        "    return ((f(a)-f(a-h))/h)\n",
        " \n",
        " \n",
        "d=input(\"Cual es la funcion\") \n",
        "print(derivative(d,2))\n",
        " \n",
        "x2=np.linspace(0,6,100)\n",
        " \n",
        "plt.plot(x,[derivative(d,i) for i in x])\n",
        "plt.show()"
      ],
      "execution_count": null,
      "outputs": [
        {
          "output_type": "stream",
          "text": [
            "Cual es la funcionx\n",
            "0.9999999999999787\n"
          ],
          "name": "stdout"
        },
        {
          "output_type": "display_data",
          "data": {
            "image/png": "[encoded data removed]",
            "text/plain": [
              "<Figure size 432x288 with 1 Axes>"
            ]
          },
          "metadata": {
            "tags": [],
            "needs_background": "light"
          }
        }
      ]
    },
    {
      "cell_type": "code",
      "metadata": {
        "id": "ymB7Ppe0dnVK"
      },
      "source": [
        ""
      ],
      "execution_count": null,
      "outputs": []
    }
  ]
}