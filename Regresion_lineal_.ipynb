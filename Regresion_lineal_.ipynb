{
  "nbformat": 4,
  "nbformat_minor": 0,
  "metadata": {
    "kernelspec": {
      "display_name": "Python 3",
      "language": "python",
      "name": "python3"
    },
    "language_info": {
      "codemirror_mode": {
        "name": "ipython",
        "version": 3
      },
      "file_extension": ".py",
      "mimetype": "text/x-python",
      "name": "python",
      "nbconvert_exporter": "python",
      "pygments_lexer": "ipython3",
      "version": "3.7.0"
    },
    "colab": {
      "name": "Regresion lineal .ipynb",
      "provenance": [],
      "include_colab_link": true
    }
  },
  "cells": [
    {
      "cell_type": "markdown",
      "metadata": {
        "id": "view-in-github",
        "colab_type": "text"
      },
      "source": [
        "<a href=\"https://colab.research.google.com/github/cesarITESO/AlgebraLineal/blob/master/Regresion_lineal_.ipynb\" target=\"_parent\"><img src=\"https://colab.research.google.com/assets/colab-badge.svg\" alt=\"Open In Colab\"/></a>"
      ]
    },
    {
      "cell_type": "code",
      "metadata": {
        "id": "nynezR44WbqB",
        "outputId": "cb17013b-6e9d-4a7c-a427-ce39eca01094",
        "colab": {
          "base_uri": "https://localhost:8080/",
          "height": 558
        }
      },
      "source": [
        "import numpy as np\n",
        "import pandas as pd\n",
        "from scipy import stats\n",
        "import matplotlib.pyplot as plt\n",
        "\n",
        "\n",
        "x=np.array([2,3,4,5])\n",
        "y=np.array([4,7,9,0])\n",
        "\n",
        "plt.scatter(x,y)\n",
        "plt.xlabel('metros')\n",
        "plt.ylabel('costos')\n",
        "plt.show()\n",
        "\n",
        "slope, intercept, r_value, p_value, str_err =stats.linregress(x,y)\n",
        "print(slope,intercept)\n",
        "y2=slope*x+intercept\n",
        "\n",
        "plt.plot(x,y2)\n",
        "plt.scatter(x,y)\n",
        "plt.xlabel('metros')\n",
        "plt.ylabel('costos')\n",
        "plt.show()\n",
        "\n",
        "\n"
      ],
      "execution_count": null,
      "outputs": [
        {
          "output_type": "display_data",
          "data": {
            "image/png": "[encoded data removed]",
            "text/plain": [
              "<Figure size 432x288 with 1 Axes>"
            ]
          },
          "metadata": {
            "tags": [],
            "needs_background": "light"
          }
        },
        {
          "output_type": "stream",
          "text": [
            "-1.0 8.5\n"
          ],
          "name": "stdout"
        },
        {
          "output_type": "display_data",
          "data": {
            "image/png": "[encoded data removed]",
            "text/plain": [
              "<Figure size 432x288 with 1 Axes>"
            ]
          },
          "metadata": {
            "tags": [],
            "needs_background": "light"
          }
        }
      ]
    },
    {
      "cell_type": "code",
      "metadata": {
        "id": "dQXme7Lva4sA",
        "outputId": "1d4f1f1e-12b7-45de-e6ab-b9794c2080ff",
        "colab": {
          "base_uri": "https://localhost:8080/",
          "height": 279
        }
      },
      "source": [
        "m=np.array([[3,4],[2,0]])\n",
        "xm=np.array([[1,3],[1,2]])\n",
        "mt=np.transpose(m)\n",
        "mt*m\n",
        "im=np.linalg.inv(mt*m)\n",
        "im\n",
        "plt.scatter(m,xm)\n",
        "plt.xlabel('metros')\n",
        "plt.ylabel('costos')\n",
        "plt.show()\n"
      ],
      "execution_count": 20,
      "outputs": [
        {
          "output_type": "display_data",
          "data": {
            "image/png": "[encoded data removed]",
            "text/plain": [
              "<Figure size 432x288 with 1 Axes>"
            ]
          },
          "metadata": {
            "tags": [],
            "needs_background": "light"
          }
        }
      ]
    },
    {
      "cell_type": "code",
      "metadata": {
        "id": "uBqfdPEglz_Z"
      },
      "source": [
        ""
      ],
      "execution_count": null,
      "outputs": []
    }
  ]
}